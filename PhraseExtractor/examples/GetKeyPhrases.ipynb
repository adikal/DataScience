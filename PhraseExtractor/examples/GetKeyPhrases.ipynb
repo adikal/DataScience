{
 "cells": [
  {
   "cell_type": "markdown",
   "metadata": {},
   "source": [
    "# Key positive and negative phrase extraction\n",
    "\n",
    "This code extracts key positive and negative phrases from reviews. \n",
    "\n",
    "The main steps in the flow are:\n",
    "\n",
    "1) Define Spacy matcher patterns to extract user defined patterns\n",
    "\n",
    "2) Choose sentiment scorer model:\n",
    "        - 'keras': Pre-trained Keras LSMT model with GloVe embeddings\n",
    "        - Lexical models like 'affin', 'vader' or 'textblob'\n",
    "\n",
    "3) Choose similarity model:\n",
    "        - 'hamming': Hamming distance \n",
    "        - 'jaccard': Jaccard scorer\n",
    "        - 'jaro_winkler': Jaro-Winkler scorer"
   ]
  },
  {
   "cell_type": "code",
   "execution_count": 10,
   "metadata": {},
   "outputs": [],
   "source": [
    "import spacy\n",
    "from spacy.matcher import Matcher\n",
    "import pandas as pd\n",
    "from phraseExtractor import phraseExtractor\n",
    "\n",
    "\n"
   ]
  },
  {
   "cell_type": "markdown",
   "metadata": {},
   "source": [
    "#### Clean review here has just one row containing pre-cleaned text. All reviews have been concatenated into one large corpus.\n",
    "Assign the combined reviews to the reviews string"
   ]
  },
  {
   "cell_type": "code",
   "execution_count": null,
   "metadata": {},
   "outputs": [],
   "source": [
    "data_df = pd.read_csv('../data/clean_review.csv')\n",
    "reviews = data_df.review[0]"
   ]
  },
  {
   "cell_type": "markdown",
   "metadata": {},
   "source": [
    "#### Create a Spacy doc bases on the review so we can use Spacy matcher. "
   ]
  },
  {
   "cell_type": "code",
   "execution_count": 11,
   "metadata": {},
   "outputs": [],
   "source": [
    "\n",
    "nlp = spacy.load('en_core_web_sm')\n",
    "#create spacy doc of reviews\n",
    "reviews_doc = nlp(reviews)\n",
    "#initialize matcher\n",
    "matcher = Matcher(nlp.vocab)\n"
   ]
  },
  {
   "cell_type": "markdown",
   "metadata": {},
   "source": [
    "#### This is where we define the list of patterns/regex to find in the reviews. This is based on either Spacy Part Of Speech (POS) tagging or dependency trees. "
   ]
  },
  {
   "cell_type": "code",
   "execution_count": 12,
   "metadata": {},
   "outputs": [],
   "source": [
    "### INITIALIZE ALL THE PATTERNS ###\n",
    "allPatterns = {}\n",
    "\n",
    "#create list of patterns to search using spacy Matcher\n",
    "pattern1 = [{'POS': 'VERB','OP':'+'},{'POS': 'PART','OP':'+'}, \\\n",
    "            {'POS' : 'VERB','OP':'+'}, {'POS' : 'NOUN','OP':'+'}]\n",
    "\n",
    "allPatterns.__setitem__(\"VPaVN\", pattern1)\n",
    "\n",
    "\n",
    "#pattern2 = [{'POS': 'PRON','OP':'+'}, {'POS' : 'VERB','OP':'+'},{'POS': 'PROPN','OP':'+'}]\n",
    "#matcher.add('Keywords2', None, pattern2)\n",
    "\n",
    "pattern2 =  [{'POS': 'ADJ','OP':'+'},{'POS': 'ADJ','OP':'+'},\\\n",
    "             {'POS' : 'NOUN','OP':'+'}]\n",
    "allPatterns.__setitem__(\"AdjAdjN\", pattern2)\n",
    " \n",
    "pattern3 = [{'POS':'ADJ','OPJ':'+'},{'POS':'PART','OP':'+'},\\\n",
    "            {'POS' : 'VERB','OP':'+'},{'POS':'PART','OP':'*'}]\n",
    "allPatterns.__setitem__(\"AdjPaVPa\", pattern3)\n",
    " \n",
    " \n",
    "pattern4 = [{'POS':'ADJ','OPJ':'+'},{'POS':'NOUN','OP':'+'},\\\n",
    "            {'POS' : 'ADP','OP':'+'},{'POS':'VERB','OP':'+'},{'POS':'NOUN','OP':'+'}]\n",
    "allPatterns.__setitem__(\"AdjNAdpVN\", pattern4)\n",
    " \n",
    "#pattern6 = [{'DEP':'nsubj','OPJ':'+'},{'DEP':'ROOT','OP':'+'},{'DEP':'dobj','OP':'+'}]\n",
    "#matcher.add('Keywords6', None, pattern6)\n",
    "\n",
    "pattern5 = [{'POS': 'ADV','OP':'+'},{'POS': 'VERB','OP':'+'},\\\n",
    "            {'POS' : 'NOUN','OP':'+'}]\n",
    "            #,{'IS_ASCII':True,'OP':'+'},{'IS_ASCII':True,'OP':'+'}]\n",
    "allPatterns.__setitem__(\"AdvVN\", pattern5)\n",
    "\n",
    "pattern6 = [{'DEP': 'amod','OP':'+'},{'DEP': 'compound','OP':'+'},\\\n",
    "            {'POS' : 'NOUN','OP':'+'}]\n",
    "allPatterns.__setitem__(\"AmCN\", pattern6)\n",
    "\n",
    "pattern7 = [{'DEP': 'aux','OP':'+'},{'DEP': 'neg','OP':'+'},\\\n",
    "            {'DEP' : 'ROOT','OP':'+'},{'DEP' : 'dobj','OP':'+'}]\n",
    "allPatterns.__setitem__(\"AuxNegRoot\", pattern7)"
   ]
  },
  {
   "cell_type": "code",
   "execution_count": 13,
   "metadata": {},
   "outputs": [],
   "source": [
    "########################\n",
    "#Define model and params\n",
    "#########################\n",
    "\n",
    "#Initialize phrase extractor \n",
    "phraseExtractor = phraseExtractor()\n",
    "\n",
    "#Define printing verbosity\n",
    "phraseExtractor.verbose = False\n",
    "\n",
    "#choose how  many words to print per class\n",
    "phraseExtractor.phrase_print_threshold =20 \n",
    "\n",
    "#Choose similarity scorer  and threshold\n",
    "phraseExtractor.sim_scorer = \"jaccard\"\n",
    "phraseExtractor.sim_threshold = 0.85\n",
    "\n",
    "#Choose sentiment scorer and threshold\n",
    "phraseExtractor.sent_scorer = \"keras\"\n",
    "phraseExtractor.sent_model_path = \"kerasLSTM/kerasModelLSTM\"\n",
    "phraseExtractor.sent_threshold = 0\n",
    "\n",
    "#Assign spacy doc and vocab to model\n",
    "phraseExtractor.doc = reviews_doc\n",
    "phraseExtractor.nlp = nlp \n",
    "\n",
    "#Attach current matcher to model\n",
    "phraseExtractor.matcher = matcher\n",
    "phraseExtractor.allPatterns = allPatterns\n",
    "\n"
   ]
  },
  {
   "cell_type": "code",
   "execution_count": 14,
   "metadata": {},
   "outputs": [
    {
     "name": "stdout",
     "output_type": "stream",
     "text": [
      "Loading model..\n",
      "\n",
      "Extacting matching phrases in doc..\n",
      "\n",
      "Finding similar phrases..\n",
      "\n",
      "Processing phrase scores and aggregating..\n",
      "\n",
      "Positive phrases\n",
      "\n",
      "Printing most used keywords..\n",
      "\n",
      "easy to use : 140 AdjPaVPa\n",
      "easy to set up : 110 AdjPaVPa\n",
      "many other things : 42 AdjAdjN\n",
      "normal prime account : 42 AmCN\n",
      "able to set : 40 AdjPaVPa\n",
      "great sound quality : 38 AdjAdjN\n",
      "other smart devices : 36 AdjAdjN\n",
      "nice to have : 35 AdjPaVPa\n",
      "my android playing music : 35 AdjAdjN\n",
      "smart compatible power switches : 34 AdjAdjN\n",
      "your favorite music kids : 34 AdjAdjN\n",
      "old handheld transistor radio : 32 AdjAdjN\n",
      "my favorite radio stations : 30 AdjAdjN\n",
      "Simple to set up : 30 AdjPaVPa\n",
      "able to play : 30 AdjPaVPa\n",
      "able to say : 30 AdjPaVPa\n",
      "love to play games : 28 VPaVN\n",
      "big Bluetooth speaker : 28 AdjAdjN\n",
      "my bluetooth speakers : 26 AdjAdjN\n",
      "n't know what : 25 AdvVN\n",
      "full rich sound : 24 AdjAdjN\n",
      "\n",
      "Negative phrases\n",
      "\n",
      "Printing most used keywords..\n",
      "\n",
      "unreliable low quality product : 22 AdjAdjN\n",
      "difficult to set up : 20 AdjPaVPa\n",
      "loud enough play music : 20 AdjAdjN\n",
      "needless to say : 15 AdjPaVPa\n",
      "seemed to fix problem : 14 VPaVN\n",
      "slightest southern dialect : 14 AdjAdjN\n",
      "claims to do works : 14 VPaVN\n",
      "loud enough ansh : 12 AdjAdjN\n",
      "Poor sound quality : 12 AdjAdjN\n",
      "different sengled bulb : 12 AdjAdjN\n",
      "useless electronic devices : 12 AdjAdjN\n",
      "same wireless router : 12 AdjAdjN\n",
      "many different ways : 12 AdjAdjN\n",
      "many difficult hours : 12 AdjAdjN\n",
      "gibberish my children : 12 AdjAdjN\n",
      "wrong to cut : 10 AdjPaVPa\n",
      "afraid to use : 10 AdjPaVPa\n",
      "Difficult to connect : 10 AdjPaVPa\n",
      "hard to guess : 10 AdjPaVPa\n",
      "disappointed to realize : 10 AdjPaVPa\n",
      "difficult to program : 10 AdjPaVPa\n"
     ]
    }
   ],
   "source": [
    "#get most used positive and negative phrases \n",
    "phraseExtractor.summarize_reviews() "
   ]
  },
  {
   "cell_type": "markdown",
   "metadata": {},
   "source": [
    "#### The output looks like this:\n",
    "\n",
    "----------------------------\n",
    "Positive phrases\n",
    "\n",
    "Printing most used keywords..\n",
    "\n",
    "easy to use : 140 AdjPaVPa\n",
    "\n",
    "----------------------------\n",
    "\n",
    "It displays the ranked list of most used phrases, the aggregated phrase score and the matcher pattern that detected the key phrase. \n",
    "\n",
    "#### This is just an initial attempt and the patterns can defintely be improved upon to extract better phrases. \n",
    "\n",
    "\n"
   ]
  },
  {
   "cell_type": "code",
   "execution_count": null,
   "metadata": {},
   "outputs": [],
   "source": []
  }
 ],
 "metadata": {
  "kernelspec": {
   "display_name": "Python 3",
   "language": "python",
   "name": "python3"
  },
  "language_info": {
   "codemirror_mode": {
    "name": "ipython",
    "version": 3
   },
   "file_extension": ".py",
   "mimetype": "text/x-python",
   "name": "python",
   "nbconvert_exporter": "python",
   "pygments_lexer": "ipython3",
   "version": "3.6.5"
  }
 },
 "nbformat": 4,
 "nbformat_minor": 2
}
