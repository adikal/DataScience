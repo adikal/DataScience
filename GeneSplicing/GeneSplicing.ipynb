{
 "cells": [
  {
   "cell_type": "markdown",
   "metadata": {},
   "source": [
    "# Problem Statement\n",
    "\n",
    "Task is to look at 60 DNA sequence elements (called \"nucleotides\" or \"base-pairs\") and decide if this is a \n",
    "\n",
    "a) \"intron -> exon\" boundary (ie) [These are sometimes called \"donors\"] \n",
    "b) \"exon -> intron\" boundary (ei) [These are sometimes called \"acceptors\"] \n",
    "c) neither\n",
    "\n",
    "Data Source is here: https://archive.ics.uci.edu/ml/datasets/Molecular+Biology+%28Splice-junction+Gene+Sequences%29"
   ]
  },
  {
   "cell_type": "code",
   "execution_count": 1,
   "metadata": {},
   "outputs": [
    {
     "name": "stderr",
     "output_type": "stream",
     "text": [
      "Using TensorFlow backend.\n"
     ]
    },
    {
     "data": {
      "text/html": [
       "<div>\n",
       "<style>\n",
       "    .dataframe thead tr:only-child th {\n",
       "        text-align: right;\n",
       "    }\n",
       "\n",
       "    .dataframe thead th {\n",
       "        text-align: left;\n",
       "    }\n",
       "\n",
       "    .dataframe tbody tr th {\n",
       "        vertical-align: top;\n",
       "    }\n",
       "</style>\n",
       "<table border=\"1\" class=\"dataframe\">\n",
       "  <thead>\n",
       "    <tr style=\"text-align: right;\">\n",
       "      <th></th>\n",
       "      <th>Class</th>\n",
       "      <th>Donor</th>\n",
       "      <th>Sequence</th>\n",
       "    </tr>\n",
       "  </thead>\n",
       "  <tbody>\n",
       "    <tr>\n",
       "      <th>count</th>\n",
       "      <td>3190</td>\n",
       "      <td>3190</td>\n",
       "      <td>3190</td>\n",
       "    </tr>\n",
       "    <tr>\n",
       "      <th>unique</th>\n",
       "      <td>3</td>\n",
       "      <td>3178</td>\n",
       "      <td>3092</td>\n",
       "    </tr>\n",
       "    <tr>\n",
       "      <th>top</th>\n",
       "      <td>N</td>\n",
       "      <td>HUMMYLCA-ACCEPTOR-1831</td>\n",
       "      <td>TGACCTGATCTTTGCTCTCCCCCTGGCCAGTTGAGG...</td>\n",
       "    </tr>\n",
       "    <tr>\n",
       "      <th>freq</th>\n",
       "      <td>1655</td>\n",
       "      <td>2</td>\n",
       "      <td>3</td>\n",
       "    </tr>\n",
       "  </tbody>\n",
       "</table>\n",
       "</div>"
      ],
      "text/plain": [
       "       Class                       Donor  \\\n",
       "count   3190                        3190   \n",
       "unique     3                        3178   \n",
       "top        N      HUMMYLCA-ACCEPTOR-1831   \n",
       "freq    1655                           2   \n",
       "\n",
       "                                                 Sequence  \n",
       "count                                                3190  \n",
       "unique                                               3092  \n",
       "top               TGACCTGATCTTTGCTCTCCCCCTGGCCAGTTGAGG...  \n",
       "freq                                                    3  "
      ]
     },
     "execution_count": 1,
     "metadata": {},
     "output_type": "execute_result"
    }
   ],
   "source": [
    "import numpy as np\n",
    "import pandas as pd\n",
    "\n",
    "import matplotlib.pyplot as plt\n",
    "import seaborn as sns\n",
    "import re\n",
    "\n",
    "from keras.models import Sequential\n",
    "from keras.layers import Dense\n",
    "from keras.layers import LSTM\n",
    "from sklearn.preprocessing import MinMaxScaler\n",
    "from sklearn.metrics import mean_squared_error\n",
    "\n",
    "#Import the dataset\n",
    "data = pd.read_csv('data.csv')\n",
    "\n",
    "\n",
    "#Take a look at the data \n",
    "data.describe()\n"
   ]
  },
  {
   "cell_type": "code",
   "execution_count": 9,
   "metadata": {},
   "outputs": [
    {
     "data": {
      "text/html": [
       "<div>\n",
       "<style>\n",
       "    .dataframe thead tr:only-child th {\n",
       "        text-align: right;\n",
       "    }\n",
       "\n",
       "    .dataframe thead th {\n",
       "        text-align: left;\n",
       "    }\n",
       "\n",
       "    .dataframe tbody tr th {\n",
       "        vertical-align: top;\n",
       "    }\n",
       "</style>\n",
       "<table border=\"1\" class=\"dataframe\">\n",
       "  <thead>\n",
       "    <tr style=\"text-align: right;\">\n",
       "      <th></th>\n",
       "      <th>Class</th>\n",
       "      <th>Donor</th>\n",
       "      <th>Sequence</th>\n",
       "    </tr>\n",
       "  </thead>\n",
       "  <tbody>\n",
       "    <tr>\n",
       "      <th>0</th>\n",
       "      <td>EI</td>\n",
       "      <td>ATRINS-DONOR-521</td>\n",
       "      <td>CCAGCTGCATCACAGGAGGCCAGCGAGCAGG...</td>\n",
       "    </tr>\n",
       "    <tr>\n",
       "      <th>1</th>\n",
       "      <td>EI</td>\n",
       "      <td>ATRINS-DONOR-905</td>\n",
       "      <td>AGACCCGCCGGGAGGCGGAGGACCTGCAGGG...</td>\n",
       "    </tr>\n",
       "    <tr>\n",
       "      <th>2</th>\n",
       "      <td>EI</td>\n",
       "      <td>BABAPOE-DONOR-30</td>\n",
       "      <td>GAGGTGAAGGACGTCCTTCCCCAGGAGCCGG...</td>\n",
       "    </tr>\n",
       "    <tr>\n",
       "      <th>3</th>\n",
       "      <td>EI</td>\n",
       "      <td>BABAPOE-DONOR-867</td>\n",
       "      <td>GGGCTGCGTTGCTGGTCACATTCCTGGCAGGT...</td>\n",
       "    </tr>\n",
       "    <tr>\n",
       "      <th>4</th>\n",
       "      <td>EI</td>\n",
       "      <td>BABAPOE-DONOR-2817</td>\n",
       "      <td>GCTCAGCCCCCAGGTCACCCAGGAACTGACGTG...</td>\n",
       "    </tr>\n",
       "  </tbody>\n",
       "</table>\n",
       "</div>"
      ],
      "text/plain": [
       "  Class                   Donor  \\\n",
       "0    EI        ATRINS-DONOR-521   \n",
       "1    EI        ATRINS-DONOR-905   \n",
       "2    EI        BABAPOE-DONOR-30   \n",
       "3    EI       BABAPOE-DONOR-867   \n",
       "4    EI      BABAPOE-DONOR-2817   \n",
       "\n",
       "                                            Sequence  \n",
       "0                 CCAGCTGCATCACAGGAGGCCAGCGAGCAGG...  \n",
       "1                 AGACCCGCCGGGAGGCGGAGGACCTGCAGGG...  \n",
       "2                 GAGGTGAAGGACGTCCTTCCCCAGGAGCCGG...  \n",
       "3                GGGCTGCGTTGCTGGTCACATTCCTGGCAGGT...  \n",
       "4               GCTCAGCCCCCAGGTCACCCAGGAACTGACGTG...  "
      ]
     },
     "execution_count": 9,
     "metadata": {},
     "output_type": "execute_result"
    }
   ],
   "source": [
    "#Let us look at a few entries\n",
    "data.head()"
   ]
  },
  {
   "cell_type": "markdown",
   "metadata": {},
   "source": [
    "## Convert the target variable into an encoded class"
   ]
  },
  {
   "cell_type": "code",
   "execution_count": 6,
   "metadata": {},
   "outputs": [
    {
     "name": "stdout",
     "output_type": "stream",
     "text": [
      "   Class_EI  Class_IE  Class_N\n",
      "0         1         0        0\n",
      "1         1         0        0\n",
      "2         1         0        0\n",
      "3         1         0        0\n",
      "4         1         0        0\n"
     ]
    }
   ],
   "source": [
    "#Create target variable with encoded class\n",
    "y = pd.DataFrame(data['Class'])\n",
    "cols_to_transform = y.dtypes[y.dtypes==\"object\"].index\n",
    "y = pd.get_dummies(y,columns = cols_to_transform )\n",
    "\n",
    "print(y.head())\n",
    "\n"
   ]
  },
  {
   "cell_type": "markdown",
   "metadata": {},
   "source": [
    "## Convert the DNA sequence into an array of integers corresponding to unicode value of character\n",
    "\n",
    "eg Sequence \"CCAG..\" would be an array [67,67,65,71...]"
   ]
  },
  {
   "cell_type": "code",
   "execution_count": 8,
   "metadata": {},
   "outputs": [
    {
     "name": "stdout",
     "output_type": "stream",
     "text": [
      "     0     1     2     3     4     5     6     7     8     9   ...     50  \\\n",
      "0  67.0  67.0  65.0  71.0  67.0  84.0  71.0  67.0  65.0  84.0  ...   65.0   \n",
      "1  65.0  71.0  65.0  67.0  67.0  67.0  71.0  67.0  67.0  71.0  ...   71.0   \n",
      "2  71.0  65.0  71.0  71.0  84.0  71.0  65.0  65.0  71.0  71.0  ...   67.0   \n",
      "3  71.0  71.0  71.0  67.0  84.0  71.0  67.0  71.0  84.0  84.0  ...   71.0   \n",
      "4  71.0  67.0  84.0  67.0  65.0  71.0  67.0  67.0  67.0  67.0  ...   67.0   \n",
      "\n",
      "     51    52    53    54    55    56    57    58    59  \n",
      "0  71.0  67.0  67.0  65.0  71.0  84.0  67.0  84.0  71.0  \n",
      "1  84.0  71.0  67.0  67.0  67.0  67.0  67.0  71.0  67.0  \n",
      "2  65.0  67.0  71.0  71.0  71.0  71.0  65.0  84.0  71.0  \n",
      "3  71.0  84.0  84.0  84.0  84.0  67.0  67.0  67.0  67.0  \n",
      "4  67.0  84.0  84.0  71.0  65.0  67.0  67.0  67.0  84.0  \n",
      "\n",
      "[5 rows x 60 columns]\n"
     ]
    }
   ],
   "source": [
    "X = pd.DataFrame()\n",
    "\n",
    "#Loop throgh all rows\n",
    "#  - Convert char to unicode\n",
    "for i in range (0,data.shape[0]):\n",
    "    \n",
    "    #Extract sequence\n",
    "    seq = data.loc[i,'Sequence']\n",
    "    \n",
    "    #Remove whitespace\n",
    "    seq = re.sub(\"\\s+\",\"\", seq)\n",
    "    \n",
    "    #Conver char to unicode\n",
    "    for j in range (0,len(seq)):\n",
    "        X.loc[i,j] = ord(seq[j])\n",
    "\n",
    "print(X.head())"
   ]
  },
  {
   "cell_type": "markdown",
   "metadata": {},
   "source": [
    "## Split train and test/validation set. Also scale feature values "
   ]
  },
  {
   "cell_type": "code",
   "execution_count": 7,
   "metadata": {},
   "outputs": [
    {
     "name": "stderr",
     "output_type": "stream",
     "text": [
      "C:\\Users\\takalyan\\AppData\\Local\\Continuum\\Anaconda3\\lib\\site-packages\\sklearn\\utils\\validation.py:429: DataConversionWarning: Data with input dtype int32 was converted to float64 by StandardScaler.\n",
      "  warnings.warn(msg, _DataConversionWarning)\n"
     ]
    }
   ],
   "source": [
    "from sklearn.model_selection import train_test_split\n",
    "X_train_pre,X_val_pre,y_train,y_val =  train_test_split(X,y,test_size=0.2)\n",
    "\n",
    "from sklearn.preprocessing import StandardScaler\n",
    "sc = StandardScaler()\n",
    "X_train_pre=  sc.fit_transform(X_train_pre.values.astype(int))\n",
    "X_val_pre=  sc.fit_transform(X_val_pre.values.astype(int))\n",
    "\n",
    "y_train = y_train.values.astype(int)\n",
    "y_val = y_val.values.astype(int)\n",
    "\n",
    "# reshape input to be 3D for LSTM[samples, timesteps, features]\n",
    "X_train = X_train_pre.reshape((X_train_pre.shape[0], 1, X_train_pre.shape[1]))\n",
    "X_val =  X_val_pre.reshape((X_val_pre.shape[0], 1, X_val_pre.shape[1]))"
   ]
  },
  {
   "cell_type": "code",
   "execution_count": 4,
   "metadata": {},
   "outputs": [
    {
     "name": "stdout",
     "output_type": "stream",
     "text": [
      "_________________________________________________________________\n",
      "Layer (type)                 Output Shape              Param #   \n",
      "=================================================================\n",
      "lstm_1 (LSTM)                (None, 1000)              4244000   \n",
      "_________________________________________________________________\n",
      "dense_1 (Dense)              (None, 3)                 3003      \n",
      "=================================================================\n",
      "Total params: 4,247,003\n",
      "Trainable params: 4,247,003\n",
      "Non-trainable params: 0\n",
      "_________________________________________________________________\n",
      "None\n"
     ]
    },
    {
     "name": "stderr",
     "output_type": "stream",
     "text": [
      "C:\\Users\\takalyan\\AppData\\Local\\Continuum\\Anaconda3\\lib\\site-packages\\keras\\models.py:837: UserWarning: The `nb_epoch` argument in `fit` has been renamed `epochs`.\n",
      "  warnings.warn('The `nb_epoch` argument in `fit` '\n"
     ]
    },
    {
     "name": "stdout",
     "output_type": "stream",
     "text": [
      "Epoch 1/10\n",
      "2552/2552 [==============================] - 14s - loss: 0.9211 - acc: 0.6740    \n",
      "Epoch 2/10\n",
      "2552/2552 [==============================] - 12s - loss: 0.6454 - acc: 0.7731    \n",
      "Epoch 3/10\n",
      "2552/2552 [==============================] - 13s - loss: 0.5163 - acc: 0.8033    \n",
      "Epoch 4/10\n",
      "2552/2552 [==============================] - 12s - loss: 0.4433 - acc: 0.8233    \n",
      "Epoch 5/10\n",
      "2552/2552 [==============================] - 14s - loss: 0.3859 - acc: 0.8437    \n",
      "Epoch 6/10\n",
      "2552/2552 [==============================] - 14s - loss: 0.3302 - acc: 0.8648    \n",
      "Epoch 7/10\n",
      "2552/2552 [==============================] - 12s - loss: 0.2760 - acc: 0.8938    \n",
      "Epoch 8/10\n",
      "2552/2552 [==============================] - 12s - loss: 0.2200 - acc: 0.9240    \n",
      "Epoch 9/10\n",
      "2552/2552 [==============================] - 12s - loss: 0.1745 - acc: 0.9385    \n",
      "Epoch 10/10\n",
      "2552/2552 [==============================] - 12s - loss: 0.1382 - acc: 0.9534    \n",
      "Accuracy: 86.52%\n"
     ]
    }
   ],
   "source": [
    "# fix random seed for reproducibility\n",
    "np.random.seed(7)\n",
    "epochs = 10\n",
    "\n",
    "# design network\n",
    "model = Sequential()\n",
    "model.add(LSTM(1000, input_shape=(X_train.shape[1], X_train.shape[2])))\n",
    "model.add(Dense(3, activation='sigmoid'))\n",
    "model.compile(loss='categorical_crossentropy', optimizer='adam', metrics=['accuracy'])\n",
    "\n",
    "print(model.summary())\n",
    "model.fit(X_train, y_train, nb_epoch=epochs, batch_size=64)\n",
    "y_val_pred = model.predict(X_val)\n",
    "\n",
    "# Final evaluation of the model\n",
    "scores = model.evaluate(X_val, y_val, verbose=0)\n",
    "print(\"Accuracy: %.2f%%\" % (scores[1]*100))"
   ]
  }
 ],
 "metadata": {
  "kernelspec": {
   "display_name": "Python 3",
   "language": "python",
   "name": "python3"
  },
  "language_info": {
   "codemirror_mode": {
    "name": "ipython",
    "version": 3
   },
   "file_extension": ".py",
   "mimetype": "text/x-python",
   "name": "python",
   "nbconvert_exporter": "python",
   "pygments_lexer": "ipython3",
   "version": "3.5.3"
  }
 },
 "nbformat": 4,
 "nbformat_minor": 2
}
